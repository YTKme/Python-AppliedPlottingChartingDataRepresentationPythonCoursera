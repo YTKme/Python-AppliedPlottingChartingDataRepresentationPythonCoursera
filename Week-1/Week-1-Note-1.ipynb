{
 "cells": [
  {
   "cell_type": "markdown",
   "metadata": {},
   "source": [
    "# Note"
   ]
  },
  {
   "cell_type": "code",
   "execution_count": 1,
   "metadata": {},
   "outputs": [],
   "source": [
    "# https://d18ky98rnyall9.cloudfront.net/_c9b936b807a51821d67b575b9625dfbb_Week-1_Principles-of-Information-Visualization.html?Expires=1566345600&Signature=L4TAZ3Fd2KxBvi~d5PdVJr0g3HfCX7P9A3uZ9NvmOKXjmJTAJ2wyA7aVD4MEdntLkPSYnw~Lv-jcZygi93E8LziwTDCng3TaCrSiBuLaQeL67XgRuW6ghOgzC~owFG7v2597Y~Mk4FEvlBtItJVOB8DRpj-UXdn~w00QVN578s8_&Key-Pair-Id=APKAJLTNE6QMUY6HBC5A\n",
    "\n",
    "# https://d18ky98rnyall9.cloudfront.net/_877d8dc555819e0f9b6e9f608c6a15e0_Week-2_Basic-Charting.html?Expires=1566345600&Signature=KW4NvtvbwTOhG-PZ7ioAl8JNayT~zUYkqpgzQIh4JZFAwJXUFVLLFn9i07p05OLA5QQZ7qutEy~5iOwDkBoeX9T3PWsWggtZxlZflCXeKxiiXmDM8Gkv8hMVWni0Qv9h5jZSH5WunnTGP1fXImkZ39XU86Nvc5o9-A7P25e1gfk_&Key-Pair-Id=APKAJLTNE6QMUY6HBC5A\n",
    "\n",
    "# https://d18ky98rnyall9.cloudfront.net/_c9b936b807a51821d67b575b9625dfbb_Week-3_Charting-Fundamentals.html?Expires=1566345600&Signature=DjnsXYjEIZXOVzUo7ASSQ0V-r2QZbqVkMUaP8n7CW1Dm-4vmayiHIvwBA~aZUWcIJhytgZjHcMPZ2Gf9izoqr-wKmG~Z~ZRHWVfjhEBcrKFKO-EcYycM-e6aaDYFMp~iCw2W91qTybXF87KeUiTGLD96d7p7N6Gypg9uJsqDxbI_&Key-Pair-Id=APKAJLTNE6QMUY6HBC5A"
   ]
  },
  {
   "cell_type": "code",
   "execution_count": null,
   "metadata": {},
   "outputs": [],
   "source": []
  }
 ],
 "metadata": {
  "kernelspec": {
   "display_name": "Python 3",
   "language": "python",
   "name": "python3"
  },
  "language_info": {
   "codemirror_mode": {
    "name": "ipython",
    "version": 3
   },
   "file_extension": ".py",
   "mimetype": "text/x-python",
   "name": "python",
   "nbconvert_exporter": "python",
   "pygments_lexer": "ipython3",
   "version": "3.7.4"
  }
 },
 "nbformat": 4,
 "nbformat_minor": 2
}
